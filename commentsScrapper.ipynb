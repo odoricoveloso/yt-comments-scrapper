{
  "nbformat": 4,
  "nbformat_minor": 0,
  "metadata": {
    "colab": {
      "provenance": [],
      "authorship_tag": "ABX9TyNN4orAj2sFAUZ6VGc6JjXd",
      "include_colab_link": true
    },
    "kernelspec": {
      "name": "python3",
      "display_name": "Python 3"
    },
    "language_info": {
      "name": "python"
    }
  },
  "cells": [
    {
      "cell_type": "markdown",
      "metadata": {
        "id": "view-in-github",
        "colab_type": "text"
      },
      "source": [
        "<a href=\"https://colab.research.google.com/github/odoricoveloso/yt-comments-scrapper/blob/main/commentsScrapper.ipynb\" target=\"_parent\"><img src=\"https://colab.research.google.com/assets/colab-badge.svg\" alt=\"Open In Colab\"/></a>"
      ]
    },
    {
      "cell_type": "code",
      "execution_count": null,
      "metadata": {
        "id": "kif-LvOD_lgt"
      },
      "outputs": [],
      "source": [
        "!pip install git+https://github.com/egbertbouman/youtube-comment-downloader.git\n",
        "!pip install pandas\n",
        "!pip install openpyxl"
      ]
    },
    {
      "cell_type": "code",
      "source": [
        "import youtube_comment_downloader as ycd\n",
        "import pandas as pd\n",
        "import logging\n",
        "import os\n",
        "import time\n",
        "\n",
        "filename = 'video_ids.csv'  # CHANGE THIS VALUE WITH LIST OF IDS\n",
        "\n",
        "# logging config\n",
        "logging.basicConfig(filename = 'comments.log', filemode = 'w', level = logging.INFO, format = '%(asctime)s | %(message)s', datefmt='%Y/%m/%d %H:%M:%S %Z', force = True)\n",
        "\n",
        "# function to get comments\n",
        "def getComments(videoid):\n",
        "\n",
        "\t# check if comments file already exists\n",
        "\twritefilename = 'comments/' + videoid + '.json'\n",
        "\tif os.path.isfile(writefilename):\n",
        "\t\tmessage = 'comments file already exists'\n",
        "\t\treturn message\n",
        "\t\n",
        "\tdownloader = ycd.YoutubeCommentDownloader()\n",
        "\t\n",
        "    # get comments\n",
        "\ttry:\n",
        "\t\tstart_time = time.time()\n",
        "\t\tprint('Downloading comments for ' + videoid)\n",
        "\t\tcomments = downloader.get_comments(videoid)\n",
        "\texcept:\n",
        "\t\tmessage = 'Cannot get comments.'\n",
        "\t\treturn message\n",
        "\n",
        "    # create dataFrame and save to excel file\n",
        "\ttry:\n",
        "\t\tdf = pd.DataFrame(comments)\n",
        "\t\tcount = len(df.index)\n",
        "\t\tdf.to_json('comments/' + videoid + '.json', orient='records', indent=4)\n",
        "\texcept:\n",
        "\t\tmessage = 'Cannot save to dataFrame.'\n",
        "\t\treturn message\n",
        "\n",
        "\tmessage = 'Downloaded ' + str(count) + ' comments in [{:.2f} seconds]. Done!'.format(time.time() - start_time)\n",
        "\treturn message\n",
        "\n",
        "# read CSV file\n",
        "dados = pd.read_csv(filename)\n",
        "\n",
        "# call function\n",
        "for i, id in enumerate(dados['videoId']):\n",
        "\tvideoid = dados.loc[i, 'videoId']\n",
        "\tmessage = getComments(videoid)\n",
        "\tlogging.info(f'{str(i)} | {videoid} | {message}')\n",
        "\tprint(str(i) + \" | \" + videoid + \" | \" + message)"
      ],
      "metadata": {
        "id": "CkQoSI_Q_9LJ"
      },
      "execution_count": null,
      "outputs": []
    }
  ]
}