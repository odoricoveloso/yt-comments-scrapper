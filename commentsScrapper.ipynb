{
  "nbformat": 4,
  "nbformat_minor": 0,
  "metadata": {
    "colab": {
      "provenance": [],
      "authorship_tag": "ABX9TyNEwKtMKK0aGdHTPreduoOd",
      "include_colab_link": true
    },
    "kernelspec": {
      "name": "python3",
      "display_name": "Python 3"
    },
    "language_info": {
      "name": "python"
    }
  },
  "cells": [
    {
      "cell_type": "markdown",
      "metadata": {
        "id": "view-in-github",
        "colab_type": "text"
      },
      "source": [
        "<a href=\"https://colab.research.google.com/github/odoricoveloso/yt-comments-scrapper/blob/main/commentsScrapper.ipynb\" target=\"_parent\"><img src=\"https://colab.research.google.com/assets/colab-badge.svg\" alt=\"Open In Colab\"/></a>"
      ]
    },
    {
      "cell_type": "code",
      "execution_count": null,
      "metadata": {
        "id": "kif-LvOD_lgt"
      },
      "outputs": [],
      "source": [
        "!pip install git+https://github.com/egbertbouman/youtube-comment-downloader.git\n",
        "!pip install pandas\n",
        "!pip install openpyxl"
      ]
    },
    {
      "cell_type": "code",
      "source": [
        "from youtube_comment_downloader import *\n",
        "import pandas as pd\n",
        "import logging\n",
        "import os\n",
        "from datetime import datetime\n",
        "import pytz\n",
        "from pytz import timezone\n",
        "\n",
        "filename = 'video_ids.csv'  # CHANGE THIS VALUE WITH LIST OF IDS\n",
        "\n",
        "# datetime config\n",
        "datetimesp = datetime.now(pytz.timezone('America/Sao_Paulo'))\n",
        "dt = datetimesp.strftime('%d/%m/%Y %H:%M')\n",
        "tz = timezone('America/Sao_Paulo')\n",
        "def timetz(*args):\n",
        "\treturn datetime.now(tz).timetuple()\n",
        "\n",
        "# logging config\n",
        "logging.Formatter.converter = timetz\n",
        "logging.basicConfig(filename = 'comments.log', filemode = 'w', level = logging.INFO, format = '%(asctime)s | %(message)s', datefmt='%Y/%m/%d %H:%M:%S %Z', force = True)\n",
        "\n",
        "# function to get comments\n",
        "def getComments(videoid):\n",
        "\n",
        "\t# check if comments file already exists\n",
        "\twritefilename = 'comments/' + videoid + '.xlsx'\n",
        "\tif os.path.isfile(writefilename):\n",
        "\t\tmessage = 'comments file already exists'\n",
        "\t\treturn message\n",
        "\t\n",
        "\tdownloader = YoutubeCommentDownloader()\n",
        "\t\n",
        "    # get comments\n",
        "\ttry:\n",
        "\t\tstart_time = time.time()\n",
        "\t\tprint('Downloading comments for ' + videoid)\n",
        "\t\tcomments = downloader.get_comments(videoid)\n",
        "\texcept:\n",
        "\t\tmessage = 'Cannot get comments.'\n",
        "\t\treturn message\n",
        "\n",
        "    # create dataFrame and save to excel file\n",
        "\ttry:\n",
        "\t\tdf = pd.DataFrame(comments)\n",
        "\t\tcount = len(df.index)\n",
        "\t\tdf.to_excel('comments/' + videoid + '.xlsx', index=False)\n",
        "\texcept:\n",
        "\t\tmessage = 'Cannot save to dataFrame.'\n",
        "\t\treturn message\n",
        "\n",
        "\tmessage = 'Downloaded ' + str(count) + ' comments in [{:.2f} seconds]. Done!'.format(time.time() - start_time)\n",
        "\treturn message\n",
        "\n",
        "# read CSV file\n",
        "dados = pd.read_csv(filename)\n",
        "\n",
        "# call function\n",
        "for i, id in enumerate(dados['videoId']):\n",
        "\tvideoid = dados.loc[i, 'videoId']\n",
        "\tmessage = getComments(videoid)\n",
        "\tlogging.info(f'{str(i)} | {videoid} | {message}')\n",
        "\tprint(dt + \" | \" + str(i) + \" | \" + videoid + \" | \" + message)"
      ],
      "metadata": {
        "id": "CkQoSI_Q_9LJ",
        "colab": {
          "base_uri": "https://localhost:8080/"
        },
        "outputId": "310baa61-160c-485e-e030-d63cfba71a54"
      },
      "execution_count": 13,
      "outputs": [
        {
          "output_type": "stream",
          "name": "stdout",
          "text": [
            "24/01/2023 16:24 | 0 | VJNzrOpFs8M | comments file already exists\n",
            "24/01/2023 16:24 | 1 | YbmqF8tm1xc | comments file already exists\n"
          ]
        }
      ]
    }
  ]
}